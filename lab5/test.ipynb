{
 "cells": [
  {
   "cell_type": "code",
   "execution_count": 1,
   "id": "2b600884",
   "metadata": {},
   "outputs": [],
   "source": [
    "from ultralytics import YOLO"
   ]
  },
  {
   "cell_type": "code",
   "execution_count": 2,
   "id": "68a741e1",
   "metadata": {},
   "outputs": [],
   "source": [
    "from PIL import Image\n",
    "\n",
    "def resize_image(input_path, output_path, new_width, new_height):\n",
    "\n",
    "    with Image.open(input_path) as img:\n",
    "\n",
    "        resized_img = img.resize((new_width, new_height))\n",
    "\n",
    "\n",
    "        resized_img.save(output_path)\n",
    "\n",
    "\n",
    "input_image_path = 'test_images/ocean_image_from_internet.jpg'\n",
    "output_image_path = 'test_images/ocean_image_from_internet_resized.jpg'\n",
    "new_width = 640  \n",
    "new_height = 640 \n",
    "\n",
    "resize_image(input_image_path, output_image_path, new_width, new_height)\n",
    "\n",
    "\n",
    "input_image_path = 'test_images/sharks_in_aquarium.jpg'\n",
    "output_image_path = 'test_images/sharks_in_aquarium_resized.jpg'\n",
    "new_width = 640  \n",
    "new_height = 640 \n",
    "\n",
    "resize_image(input_image_path, output_image_path, new_width, new_height)\n"
   ]
  },
  {
   "cell_type": "code",
   "execution_count": 3,
   "id": "f628995d",
   "metadata": {},
   "outputs": [],
   "source": [
    "model_1 = YOLO(\"best_V1.pt\")\n",
    "model_2 = YOLO(\"best_V2.pt\")\n"
   ]
  },
  {
   "cell_type": "code",
   "execution_count": 6,
   "id": "ba60bbcc",
   "metadata": {},
   "outputs": [
    {
     "name": "stdout",
     "output_type": "stream",
     "text": [
      "\n",
      "image 1/1 /home/sypoo/mtuci/nn/lab5/test_images/ocean_image_from_internet.jpg: 416x640 92 fishs, 42.9ms\n",
      "Speed: 2.6ms preprocess, 42.9ms inference, 0.8ms postprocess per image at shape (1, 3, 416, 640)\n",
      "\n",
      "image 1/1 /home/sypoo/mtuci/nn/lab5/test_images/ocean_image_from_internet.jpg: 416x640 89 fishs, 44.9ms\n",
      "Speed: 1.7ms preprocess, 44.9ms inference, 0.9ms postprocess per image at shape (1, 3, 416, 640)\n",
      "\n",
      "image 1/1 /home/sypoo/mtuci/nn/lab5/test_images/ocean_image_from_internet_resized.jpg: 640x640 100 fishs, 70.5ms\n",
      "Speed: 1.3ms preprocess, 70.5ms inference, 1.0ms postprocess per image at shape (1, 3, 640, 640)\n",
      "\n",
      "image 1/1 /home/sypoo/mtuci/nn/lab5/test_images/ocean_image_from_internet_resized.jpg: 640x640 79 fishs, 111.6ms\n",
      "Speed: 1.4ms preprocess, 111.6ms inference, 3.6ms postprocess per image at shape (1, 3, 640, 640)\n"
     ]
    },
    {
     "name": "stderr",
     "output_type": "stream",
     "text": [
      "\n",
      "(eog:196463): EOG-CRITICAL **: 04:00:59.377: eog_image_get_file: assertion 'EOG_IS_IMAGE (img)' failed\n",
      "\n",
      "(eog:196463): GLib-GIO-CRITICAL **: 04:00:59.377: g_file_equal: assertion 'G_IS_FILE (file1)' failed\n"
     ]
    }
   ],
   "source": [
    "\n",
    "img1 = \"test_images/ocean_image_from_internet.jpg\"\n",
    "model_1.predict(img1)[0].show()\n",
    "model_2.predict(img1)[0].show()\n",
    "\n",
    "img2 = \"test_images/ocean_image_from_internet_resized.jpg\"\n",
    "model_1.predict(img2)[0].show()\n",
    "model_2.predict(img2)[0].show()"
   ]
  },
  {
   "cell_type": "code",
   "execution_count": 7,
   "id": "a7549042",
   "metadata": {},
   "outputs": [
    {
     "name": "stdout",
     "output_type": "stream",
     "text": [
      "\n",
      "image 1/1 /home/sypoo/mtuci/nn/lab5/test_images/sharks_in_aquarium.jpg: 448x640 3 fishs, 1 shark, 1 stingray, 47.6ms\n",
      "Speed: 3.9ms preprocess, 47.6ms inference, 0.6ms postprocess per image at shape (1, 3, 448, 640)\n",
      "\n",
      "image 1/1 /home/sypoo/mtuci/nn/lab5/test_images/sharks_in_aquarium.jpg: 448x640 11 fishs, 1 shark, 1 stingray, 43.6ms\n",
      "Speed: 1.5ms preprocess, 43.6ms inference, 0.7ms postprocess per image at shape (1, 3, 448, 640)\n",
      "\n",
      "image 1/1 /home/sypoo/mtuci/nn/lab5/test_images/sharks_in_aquarium_resized.jpg: 640x640 11 fishs, 2 jellyfishs, 1 shark, 1 stingray, 101.9ms\n",
      "Speed: 1.4ms preprocess, 101.9ms inference, 0.7ms postprocess per image at shape (1, 3, 640, 640)\n",
      "\n",
      "image 1/1 /home/sypoo/mtuci/nn/lab5/test_images/sharks_in_aquarium_resized.jpg: 640x640 13 fishs, 1 shark, 1 stingray, 71.7ms\n",
      "Speed: 1.9ms preprocess, 71.7ms inference, 0.7ms postprocess per image at shape (1, 3, 640, 640)\n"
     ]
    }
   ],
   "source": [
    "img1 = \"test_images/sharks_in_aquarium.jpg\"\n",
    "model_1.predict(img1)[0].show()\n",
    "model_2.predict(img1)[0].show()\n",
    "\n",
    "img2 = \"test_images/sharks_in_aquarium_resized.jpg\"\n",
    "model_1.predict(img2)[0].show()\n",
    "model_2.predict(img2)[0].show()"
   ]
  },
  {
   "cell_type": "code",
   "execution_count": null,
   "id": "d86b64f2",
   "metadata": {},
   "outputs": [],
   "source": []
  }
 ],
 "metadata": {
  "kernelspec": {
   "display_name": ".venv",
   "language": "python",
   "name": "python3"
  },
  "language_info": {
   "codemirror_mode": {
    "name": "ipython",
    "version": 3
   },
   "file_extension": ".py",
   "mimetype": "text/x-python",
   "name": "python",
   "nbconvert_exporter": "python",
   "pygments_lexer": "ipython3",
   "version": "3.12.9"
  }
 },
 "nbformat": 4,
 "nbformat_minor": 5
}
