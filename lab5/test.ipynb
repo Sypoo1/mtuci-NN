{
 "cells": [
  {
   "cell_type": "code",
   "execution_count": 15,
   "id": "2b600884",
   "metadata": {},
   "outputs": [],
   "source": [
    "from ultralytics import YOLO"
   ]
  },
  {
   "cell_type": "code",
   "execution_count": 16,
   "id": "68a741e1",
   "metadata": {},
   "outputs": [],
   "source": [
    "from PIL import Image\n",
    "\n",
    "def resize_image(input_path, output_path, new_width, new_height):\n",
    "\n",
    "    with Image.open(input_path) as img:\n",
    "\n",
    "        resized_img = img.resize((new_width, new_height))\n",
    "\n",
    "\n",
    "        resized_img.save(output_path)\n",
    "\n",
    "\n",
    "input_image_path = 'test_images/ocean_image_from_internet.jpg'\n",
    "output_image_path = 'test_images/ocean_image_from_internet_resized.jpg'\n",
    "new_width = 640  \n",
    "new_height = 640 \n",
    "\n",
    "resize_image(input_image_path, output_image_path, new_width, new_height)\n",
    "\n",
    "\n",
    "input_image_path = 'test_images/sharks_in_aquarium.jpg'\n",
    "output_image_path = 'test_images/sharks_in_aquarium_resized.jpg'\n",
    "new_width = 640  \n",
    "new_height = 640 \n",
    "\n",
    "resize_image(input_image_path, output_image_path, new_width, new_height)\n"
   ]
  },
  {
   "cell_type": "code",
   "execution_count": 17,
   "id": "f628995d",
   "metadata": {},
   "outputs": [],
   "source": [
    "model_1 = YOLO(\"best_V1.pt\")\n",
    "model_2 = YOLO(\"best_V2.pt\")\n"
   ]
  },
  {
   "cell_type": "code",
   "execution_count": 18,
   "id": "6701a6b6",
   "metadata": {},
   "outputs": [
    {
     "name": "stdout",
     "output_type": "stream",
     "text": [
      "\n",
      "image 1/1 /home/sypoo/mtuci/nn/lab5/test_images/ocean_image_from_internet.jpg: 416x640 92 fishs, 46.7ms\n",
      "Speed: 1.4ms preprocess, 46.7ms inference, 0.7ms postprocess per image at shape (1, 3, 416, 640)\n",
      "\n",
      "image 1/1 /home/sypoo/mtuci/nn/lab5/test_images/ocean_image_from_internet.jpg: 416x640 89 fishs, 43.7ms\n",
      "Speed: 1.5ms preprocess, 43.7ms inference, 0.8ms postprocess per image at shape (1, 3, 416, 640)\n"
     ]
    }
   ],
   "source": [
    "img1 = \"test_images/ocean_image_from_internet.jpg\"\n",
    "model_1.predict(img1)[0].show()\n",
    "model_2.predict(img1)[0].show()"
   ]
  },
  {
   "cell_type": "code",
   "execution_count": 19,
   "id": "ba60bbcc",
   "metadata": {},
   "outputs": [
    {
     "name": "stdout",
     "output_type": "stream",
     "text": [
      "\n",
      "image 1/1 /home/sypoo/mtuci/nn/lab5/test_images/ocean_image_from_internet_resized.jpg: 640x640 100 fishs, 86.9ms\n",
      "Speed: 1.2ms preprocess, 86.9ms inference, 0.9ms postprocess per image at shape (1, 3, 640, 640)\n",
      "\n",
      "image 1/1 /home/sypoo/mtuci/nn/lab5/test_images/ocean_image_from_internet_resized.jpg: 640x640 79 fishs, 72.5ms\n",
      "Speed: 1.3ms preprocess, 72.5ms inference, 0.8ms postprocess per image at shape (1, 3, 640, 640)\n"
     ]
    }
   ],
   "source": [
    "img2 = \"test_images/ocean_image_from_internet_resized.jpg\"\n",
    "model_1.predict(img2)[0].show()\n",
    "model_2.predict(img2)[0].show()"
   ]
  },
  {
   "cell_type": "code",
   "execution_count": 20,
   "id": "931c4bd2",
   "metadata": {},
   "outputs": [
    {
     "name": "stdout",
     "output_type": "stream",
     "text": [
      "\n",
      "image 1/1 /home/sypoo/mtuci/nn/lab5/test_images/sharks_in_aquarium.jpg: 448x640 3 fishs, 1 shark, 1 stingray, 68.8ms\n",
      "Speed: 13.2ms preprocess, 68.8ms inference, 0.7ms postprocess per image at shape (1, 3, 448, 640)\n",
      "\n",
      "image 1/1 /home/sypoo/mtuci/nn/lab5/test_images/sharks_in_aquarium.jpg: 448x640 11 fishs, 1 shark, 1 stingray, 53.2ms\n",
      "Speed: 2.2ms preprocess, 53.2ms inference, 0.8ms postprocess per image at shape (1, 3, 448, 640)\n"
     ]
    }
   ],
   "source": [
    "img3 = \"test_images/sharks_in_aquarium.jpg\"\n",
    "model_1.predict(img3)[0].show()\n",
    "model_2.predict(img3)[0].show()\n"
   ]
  },
  {
   "cell_type": "code",
   "execution_count": 21,
   "id": "a7549042",
   "metadata": {},
   "outputs": [
    {
     "name": "stdout",
     "output_type": "stream",
     "text": [
      "\n",
      "image 1/1 /home/sypoo/mtuci/nn/lab5/test_images/sharks_in_aquarium_resized.jpg: 640x640 11 fishs, 2 jellyfishs, 1 shark, 1 stingray, 101.8ms\n",
      "Speed: 1.4ms preprocess, 101.8ms inference, 0.7ms postprocess per image at shape (1, 3, 640, 640)\n",
      "\n",
      "image 1/1 /home/sypoo/mtuci/nn/lab5/test_images/sharks_in_aquarium_resized.jpg: 640x640 13 fishs, 1 shark, 1 stingray, 79.6ms\n",
      "Speed: 1.2ms preprocess, 79.6ms inference, 0.7ms postprocess per image at shape (1, 3, 640, 640)\n"
     ]
    }
   ],
   "source": [
    "img4 = \"test_images/sharks_in_aquarium_resized.jpg\"\n",
    "model_1.predict(img4)[0].show()\n",
    "model_2.predict(img4)[0].show()"
   ]
  }
 ],
 "metadata": {
  "kernelspec": {
   "display_name": ".venv",
   "language": "python",
   "name": "python3"
  },
  "language_info": {
   "codemirror_mode": {
    "name": "ipython",
    "version": 3
   },
   "file_extension": ".py",
   "mimetype": "text/x-python",
   "name": "python",
   "nbconvert_exporter": "python",
   "pygments_lexer": "ipython3",
   "version": "3.12.9"
  }
 },
 "nbformat": 4,
 "nbformat_minor": 5
}
